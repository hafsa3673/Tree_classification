{
 "cells": [
  {
   "cell_type": "code",
   "execution_count": 1,
   "id": "25e46a34-f0c4-41b4-a245-7a7a2385f5dd",
   "metadata": {},
   "outputs": [],
   "source": [
    "from keras.preprocessing.image import ImageDataGenerator"
   ]
  },
  {
   "cell_type": "code",
   "execution_count": 2,
   "id": "cd68a156-6e82-4c24-8c51-c68644858863",
   "metadata": {
    "tags": []
   },
   "outputs": [],
   "source": [
    "!mkdir ./train/0 ./train/1 ./train/2 ./train/3 ./train/4 ./train/5 ./train/6 "
   ]
  },
  {
   "cell_type": "code",
   "execution_count": 3,
   "id": "a604c98f-41dc-4862-a293-25dcac96405f",
   "metadata": {},
   "outputs": [
    {
     "name": "stdout",
     "output_type": "stream",
     "text": [
      "Found 27 images belonging to 1 classes.\n",
      "Found 4 images belonging to 1 classes.\n",
      "Found 79 images belonging to 1 classes.\n",
      "Found 6 images belonging to 1 classes.\n",
      "Found 7 images belonging to 1 classes.\n",
      "Found 19 images belonging to 1 classes.\n",
      "Found 8 images belonging to 1 classes.\n"
     ]
    }
   ],
   "source": [
    "IMAGE_SIZE = 224\n",
    "BATCH_SIZE = 500\n",
    "LABELS = ['0', '1', '2', '3', '4', '5', '6']\n",
    "\n",
    "for label in LABELS:\n",
    "    datagen_kwargs = dict(rescale=1./255)\n",
    "    dataflow_kwargs = dict(target_size=(IMAGE_SIZE, IMAGE_SIZE),\n",
    "                           batch_size=BATCH_SIZE, interpolation=\"bilinear\")\n",
    "\n",
    "    train_datagen = ImageDataGenerator(\n",
    "        rotation_range=40,\n",
    "        horizontal_flip=True,\n",
    "        width_shift_range=0.1,\n",
    "        height_shift_range=0.1,\n",
    "        shear_range=0.1,\n",
    "        zoom_range=0.1,\n",
    "        **datagen_kwargs)\n",
    "\n",
    "    train_generator = train_datagen.flow_from_directory(\n",
    "        './data/', subset=\"training\", shuffle=True,\n",
    "        save_to_dir='./train/'+label, save_prefix='aug',\n",
    "        classes=[label], **dataflow_kwargs\n",
    "    )\n",
    "\n",
    "    # Following line triggers execution of train_generator\n",
    "    batch = next(train_generator)"
   ]
  },
  {
   "cell_type": "code",
   "execution_count": 4,
   "id": "c5f72b67-7fe7-4e2b-896b-3ba1ff12181c",
   "metadata": {},
   "outputs": [
    {
     "name": "stdout",
     "output_type": "stream",
     "text": [
      "Found 27 images belonging to 1 classes.\n",
      "Found 4 images belonging to 1 classes.\n",
      "Found 79 images belonging to 1 classes.\n",
      "Found 6 images belonging to 1 classes.\n",
      "Found 7 images belonging to 1 classes.\n",
      "Found 19 images belonging to 1 classes.\n",
      "Found 8 images belonging to 1 classes.\n"
     ]
    }
   ],
   "source": [
    "for label in LABELS:\n",
    "    datagen_kwargs = dict(rescale=1./255)\n",
    "    dataflow_kwargs = dict(target_size=(IMAGE_SIZE, IMAGE_SIZE),\n",
    "                           batch_size=BATCH_SIZE, interpolation=\"bilinear\")\n",
    "\n",
    "    train_datagen = ImageDataGenerator(\n",
    "        rotation_range=1,\n",
    "        **datagen_kwargs)\n",
    "\n",
    "    train_generator = train_datagen.flow_from_directory(\n",
    "        './data/', subset=\"training\", shuffle=True,\n",
    "        save_to_dir='./train/'+label, save_prefix='aug',\n",
    "        classes=[label], **dataflow_kwargs\n",
    "    )\n",
    "\n",
    "    # Following line triggers execution of train_generator\n",
    "    batch = next(train_generator)"
   ]
  },
  {
   "cell_type": "code",
   "execution_count": 5,
   "id": "73e90dfa-9b9d-4728-a171-8c73a1ee1212",
   "metadata": {},
   "outputs": [
    {
     "name": "stdout",
     "output_type": "stream",
     "text": [
      "Found 27 images belonging to 1 classes.\n",
      "Found 4 images belonging to 1 classes.\n",
      "Found 79 images belonging to 1 classes.\n",
      "Found 6 images belonging to 1 classes.\n",
      "Found 7 images belonging to 1 classes.\n",
      "Found 19 images belonging to 1 classes.\n",
      "Found 8 images belonging to 1 classes.\n"
     ]
    }
   ],
   "source": [
    "for label in LABELS:\n",
    "    datagen_kwargs = dict(rescale=1./255)\n",
    "    dataflow_kwargs = dict(target_size=(IMAGE_SIZE, IMAGE_SIZE),\n",
    "                           batch_size=BATCH_SIZE, interpolation=\"bilinear\")\n",
    "\n",
    "    train_datagen = ImageDataGenerator(\n",
    "        width_shift_range=0.2,\n",
    "        **datagen_kwargs)\n",
    "\n",
    "    train_generator = train_datagen.flow_from_directory(\n",
    "        './data/', subset=\"training\", shuffle=True,\n",
    "        save_to_dir='./train/'+label, save_prefix='aug',\n",
    "        classes=[label], **dataflow_kwargs\n",
    "    )\n",
    "\n",
    "    # Following line triggers execution of train_generator\n",
    "    batch = next(train_generator)"
   ]
  }
 ],
 "metadata": {
  "kernelspec": {
   "display_name": "Python 3 (ipykernel)",
   "language": "python",
   "name": "python3"
  },
  "language_info": {
   "codemirror_mode": {
    "name": "ipython",
    "version": 3
   },
   "file_extension": ".py",
   "mimetype": "text/x-python",
   "name": "python",
   "nbconvert_exporter": "python",
   "pygments_lexer": "ipython3",
   "version": "3.10.12"
  }
 },
 "nbformat": 4,
 "nbformat_minor": 5
}
